{
 "cells": [
  {
   "cell_type": "markdown",
   "id": "4adab3e0-b913-4a6f-a434-1427094b0c0d",
   "metadata": {},
   "source": [
    "# Jupyter Lab for Generating NeXus File Using Pynxtools Converter for SPM Domain Experiments\n",
    "\n",
    "Besides the NOMAD research data management platform, one may want to use the converter in the command-line interface.\n",
    "\n",
    "To run the NeXus converter from the command-line (CL) tool or Jupyter Lab, the user needs to be introduced to the CL tools. Here is a short description of how to use them and what type of input files are needed.\n",
    "\n",
    "Visit the GitHub repository: [FAIRmat-NFDI/pynxtools-spm](https://github.com/FAIRmat-NFDI/pynxtools-spm)\n",
    "\n",
    "In general, the converter command is:\n",
    "\n",
    "```terminal\n",
    "(USER)$ dataconverter [OPTIONS] COMMAND [ARGS] ...\n",
    "```\n",
    "\n",
    "To run a typical NeXus data converter, use a command like:\n",
    "\n",
    "```terminal\n",
    "(USER)$ dataconverter --nxdl <nxdl-name> --reader <reader-name> --output <output.nxs> <input-files>\n",
    "```\n",
    "\n",
    "## Supported File Formats and Software Versions\n",
    "\n",
    "- Can parse Scanning Tunneling Spectroscopy (STS) from:\n",
    "    - `.dat` file format from Nanonis: \n",
    "        - Versions: Generic 5e, Generic 4.5\n",
    "- Can parse Scanning Tunneling Microscopy (STM) from:\n",
    "    - `.sxm` file format from Nanonis: \n",
    "        - Versions: Generic 5e, Generic 4.5\n",
    "- Can parse Atomic Force Microscopy (AFM) from:\n",
    "    - `.sxm` file format from Nanonis:\n",
    "        - Versions: Generic 4"
   ]
  },
  {
   "cell_type": "markdown",
   "id": "74918766-45d2-41ad-89ce-04ef1ee30b6d",
   "metadata": {},
   "source": [
    "## Convert Scanning Tunneling Spectroscopy (STS) Experiment\n",
    "In the STS experiment, to convert raw data into `.nxs`:\n",
    "\n",
    "```terminal\n",
    "(USER)$ dataconverter --nxdl NXsts --reader spm --output sts_output.nxs raw_data.dat config.json eln_data.yaml\n",
    "```\n",
    "[To get some example input files, please visit the GitHub repository](https://github.com/FAIRmat-NFDI/pynxtools-spm/tree/main/tests/data/nanonis/sts/version_gen_5e_with_described_nxdata)\n",
    "\n",
    "## Convert Scanning Tunneling Microscopy (STM) Experiment\n",
    "In the STM experiment, to convert raw data into `.nxs`:\n",
    "\n",
    "```terminal\n",
    "(USER)$ dataconverter --nxdl NXstm --reader spm --output stm_output.nxs raw_data.sxm config.json eln_data.yaml\n",
    "```\n",
    "[To run the converter in the command line with example input files, please visit the GitHub repository](https://github.com/FAIRmat-NFDI/pynxtools-spm/tree/main/tests/data/nanonis/stm/version_gen_4_5_with_described_nxdata)\n",
    "\n",
    "## Convert Atomic Force Microscopy (AFM) Experiment\n",
    "In the AFM experiment, to convert raw data into `.nxs`:\n",
    "\n",
    "```terminal\n",
    "(USER)$ dataconverter --nxdl NXafm --reader spm --output afm_output.nxs raw_data.sxm config.json eln_data.yaml\n",
    "```\n",
    "[To run the converter in the command line with example input files, please visit the GitHub repository](https://github.com/FAIRmat-NFDI/pynxtools-spm/tree/main/tests/data/nanonis/afm/version_gen_4_with_described_nxdata)\n",
    "\n",
    "## Convert in Jupyter Notebook\n",
    "The converter can also be run in a Jupyter cell.\n",
    "\n",
    "## Run Jupyter Cell to Convert the Data According to the Application Definition \n",
    "\n",
    "Run the command with the following syntax (update the input files and `nxdl` name according to the experiments: STS, STM, or AFM).\n",
    "\n",
    "For a typical STM experiment:\n",
    "\n",
    "```jupyter\n",
    "!dataconverter \\\n",
    "--nxdl \"NXstm\" \\\n",
    "--reader \"spm\" \\\n",
    "--output \"stm_output.nxs\" \"raw_data.sxm\" \"config.json\" \"eln_data.yaml\"\n",
    "```\n",
    "\n",
    "## Explore NeXus or HDF5 File With Tools\n",
    "\n",
    "1. Open an HDF5 file with the Python package [h5py](https://docs.h5py.org/en/latest/quick.html).\n",
    "2. Explore and visualize the HDF5 file with [H5Wasm](https://h5web.panosc.eu/h5wasm) from [H5Web](https://h5web.panosc.eu/).\n",
    "3. Explore and visualize the HDF5 file in VSCode with the extension [H5Web](https://marketplace.visualstudio.com/items?itemName=h5web.vscode-h5web)."
   ]
  },
  {
   "cell_type": "code",
   "execution_count": null,
   "id": "3b8decdf-657c-447c-8173-33ecc528bc7c",
   "metadata": {},
   "outputs": [],
   "source": [
    "!dataconverter \\\n",
    "--nxdl \"NXsts\" \\\n",
    "--reader \"spm\" \\\n",
    "--output \"sts_output.nxs\" \"Bias-Spectroscopy00015_20230420.dat\" \"config.json\" \"eln_data.yaml\""
   ]
  },
  {
   "cell_type": "code",
   "execution_count": null,
   "id": "9be891f7",
   "metadata": {},
   "outputs": [],
   "source": []
  }
 ],
 "metadata": {
  "kernelspec": {
   "display_name": "Python 3 (ipykernel)",
   "language": "python",
   "name": "python3"
  },
  "language_info": {
   "codemirror_mode": {
    "name": "ipython",
    "version": 3
   },
   "file_extension": ".py",
   "mimetype": "text/x-python",
   "name": "python",
   "nbconvert_exporter": "python",
   "pygments_lexer": "ipython3",
   "version": "3.12.9"
  }
 },
 "nbformat": 4,
 "nbformat_minor": 5
}
